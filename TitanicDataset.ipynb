{
 "cells": [
  {
   "cell_type": "code",
   "execution_count": 151,
   "metadata": {
    "collapsed": true
   },
   "outputs": [],
   "source": [
    "import pandas as pd\n",
    "import numpy as np\n",
    "import seaborn as sns\n",
    "import matplotlib.pyplot as plt\n",
    "%matplotlib inline\n",
    "\n",
    "from sklearn.linear_model import LogisticRegressionCV\n",
    "from sklearn.svm import SVC, LinearSVC\n",
    "from sklearn.ensemble import RandomForestClassifier\n",
    "from sklearn.neighbors import KNeighborsClassifier\n",
    "from sklearn.naive_bayes import GaussianNB\n",
    "from sklearn.metrics import accuracy_score"
   ]
  },
  {
   "cell_type": "code",
   "execution_count": 123,
   "metadata": {},
   "outputs": [],
   "source": [
    "train_data = pd.read_csv('train.csv')\n",
    "test_data = pd.read_csv('test.csv')"
   ]
  },
  {
   "cell_type": "code",
   "execution_count": 124,
   "metadata": {},
   "outputs": [
    {
     "name": "stdout",
     "output_type": "stream",
     "text": [
      "<class 'pandas.core.frame.DataFrame'>\n",
      "RangeIndex: 891 entries, 0 to 890\n",
      "Data columns (total 12 columns):\n",
      "PassengerId    891 non-null int64\n",
      "Survived       891 non-null int64\n",
      "Pclass         891 non-null int64\n",
      "Name           891 non-null object\n",
      "Sex            891 non-null object\n",
      "Age            714 non-null float64\n",
      "SibSp          891 non-null int64\n",
      "Parch          891 non-null int64\n",
      "Ticket         891 non-null object\n",
      "Fare           891 non-null float64\n",
      "Cabin          204 non-null object\n",
      "Embarked       889 non-null object\n",
      "dtypes: float64(2), int64(5), object(5)\n",
      "memory usage: 83.6+ KB\n",
      "---------------------------------------------------\n",
      "<class 'pandas.core.frame.DataFrame'>\n",
      "RangeIndex: 418 entries, 0 to 417\n",
      "Data columns (total 11 columns):\n",
      "PassengerId    418 non-null int64\n",
      "Pclass         418 non-null int64\n",
      "Name           418 non-null object\n",
      "Sex            418 non-null object\n",
      "Age            332 non-null float64\n",
      "SibSp          418 non-null int64\n",
      "Parch          418 non-null int64\n",
      "Ticket         418 non-null object\n",
      "Fare           417 non-null float64\n",
      "Cabin          91 non-null object\n",
      "Embarked       418 non-null object\n",
      "dtypes: float64(2), int64(4), object(5)\n",
      "memory usage: 36.0+ KB\n"
     ]
    }
   ],
   "source": [
    "train_data.info()\n",
    "print '---------------------------------------------------'\n",
    "test_data.info()"
   ]
  },
  {
   "cell_type": "code",
   "execution_count": 125,
   "metadata": {
    "collapsed": true
   },
   "outputs": [],
   "source": [
    "titanic_train_data = train_data.drop(['PassengerId','Name','Ticket'],1)\n",
    "titanic_test_data = test_data.drop(['Name','Ticket'],1)"
   ]
  },
  {
   "cell_type": "code",
   "execution_count": 126,
   "metadata": {},
   "outputs": [
    {
     "data": {
      "text/plain": [
       "<matplotlib.axes._subplots.AxesSubplot at 0x7f4b5226f210>"
      ]
     },
     "execution_count": 126,
     "metadata": {},
     "output_type": "execute_result"
    },
    {
     "data": {
      "image/png": "[encoded data removed]",
      "text/plain": [
       "<matplotlib.figure.Figure at 0x7f4b535f8150>"
      ]
     },
     "metadata": {},
     "output_type": "display_data"
    }
   ],
   "source": [
    "# Embarked\n",
    "# Observation : Embarked at C port has average chance of survival(~0.6)\n",
    "titanic_train_data['Embarked'] = titanic_train_data['Embarked'].fillna('S')\n",
    "titanic_test_data['Embarked'] = titanic_test_data['Embarked'].fillna('S')\n",
    "fig,(axis1,axis2,axis3) = plt.subplots(1,3,figsize=(15,5))\n",
    "sns.countplot(x='Embarked',data = titanic_train_data, ax=axis1)\n",
    "sns.countplot(x='Survived', hue = 'Embarked', data=titanic_train_data, ax=axis2)\n",
    "embarked_survived = titanic_train_data[['Embarked','Survived']].groupby('Embarked', as_index=False).mean()\n",
    "sns.barplot(x='Embarked', y='Survived', data = embarked_survived, order=['S','C','Q'])\n",
    "#titanic_train_data.head(20)"
   ]
  },
  {
   "cell_type": "code",
   "execution_count": 127,
   "metadata": {},
   "outputs": [
    {
     "data": {
      "text/plain": [
       "<matplotlib.axes._subplots.AxesSubplot at 0x7f4b53cf45d0>"
      ]
     },
     "execution_count": 127,
     "metadata": {},
     "output_type": "execute_result"
    },
    {
     "data": {
      "image/png": "[encoded data removed]",
      "text/plain": [
       "<matplotlib.figure.Figure at 0x7f4b5211ea90>"
      ]
     },
     "metadata": {},
     "output_type": "display_data"
    }
   ],
   "source": [
    "#Age\n",
    "#Observation : <15 and >50 has higher chance of survival\n",
    "fig,axis1 = plt.subplots(1,1,figsize=(18,4))\n",
    "titanic_train_data['Age'] = titanic_train_data['Age'].fillna(titanic_train_data.Age.mean())\n",
    "titanic_test_data['Age'] = titanic_test_data['Age'].fillna(titanic_test_data.Age.mean())\n",
    "titanic_train_data['Age'] = titanic_train_data['Age'].astype(int)\n",
    "titanic_test_data['Age'] = titanic_test_data['Age'].astype(int)\n",
    "age_survived = titanic_train_data[['Age','Survived']].groupby('Age',as_index=False).mean()\n",
    "sns.barplot(x='Age',y='Survived',data=age_survived)\n",
    "#titanic_train_data.head(20)"
   ]
  },
  {
   "cell_type": "code",
   "execution_count": 128,
   "metadata": {},
   "outputs": [
    {
     "data": {
      "text/plain": [
       "<matplotlib.axes._subplots.AxesSubplot at 0x7f4b51ff2c10>"
      ]
     },
     "execution_count": 128,
     "metadata": {},
     "output_type": "execute_result"
    },
    {
     "data": {
      "image/png": "[encoded data removed]",
      "text/plain": [
       "<matplotlib.figure.Figure at 0x7f4b525a4850>"
      ]
     },
     "metadata": {},
     "output_type": "display_data"
    }
   ],
   "source": [
    "#Sex\n",
    "#Observation : Female has good chances of survival\n",
    "def isChild(passenger):\n",
    "    age,sex = passenger\n",
    "    if age<=15:\n",
    "        return 'Child'\n",
    "    return sex\n",
    "titanic_train_data['Person']=titanic_train_data[['Age','Sex']].apply(isChild,axis=1)\n",
    "titanic_test_data['Person'] =titanic_test_data[['Age','Sex']].apply(isChild,axis=1)\n",
    "titanic_train_data = titanic_train_data.drop('Sex',axis=1)\n",
    "titanic_test_data = titanic_test_data.drop('Sex',axis=1)\n",
    "sex_survived = titanic_train_data[['Person','Survived']].groupby('Person',as_index=False).mean()\n",
    "sns.barplot(x='Person',y='Survived',data=sex_survived)"
   ]
  },
  {
   "cell_type": "code",
   "execution_count": 129,
   "metadata": {},
   "outputs": [],
   "source": [
    "#Cabin\n",
    "titanic_train_data = titanic_train_data.drop('Cabin',axis=1)\n",
    "titanic_test_data = titanic_test_data.drop('Cabin',axis=1)\n",
    "#titanic_train_data.head(20)"
   ]
  },
  {
   "cell_type": "code",
   "execution_count": 130,
   "metadata": {},
   "outputs": [
    {
     "data": {
      "text/plain": [
       "<matplotlib.axes._subplots.AxesSubplot at 0x7f4b51bbd810>"
      ]
     },
     "execution_count": 130,
     "metadata": {},
     "output_type": "execute_result"
    },
    {
     "data": {
      "image/png": "[encoded data removed]",
      "text/plain": [
       "<matplotlib.figure.Figure at 0x7f4b534c1f90>"
      ]
     },
     "metadata": {},
     "output_type": "display_data"
    }
   ],
   "source": [
    "#pclass\n",
    "#Pclass 1 and 2 have average chances of survival\n",
    "pclassFare_survived = titanic_train_data[['Pclass','Fare','Survived']].groupby(['Pclass','Fare'],as_index=False).mean()\n",
    "sns.barplot(x='Pclass',y='Survived',data=pclassFare_survived)\n",
    "#titanic_train_data.head(20)"
   ]
  },
  {
   "cell_type": "code",
   "execution_count": 131,
   "metadata": {},
   "outputs": [
    {
     "name": "stdout",
     "output_type": "stream",
     "text": [
      "48.3954076023 22.1178868852\n"
     ]
    }
   ],
   "source": [
    "#Fare\n",
    "#Greater the fare greater the chances of survival\n",
    "titanic_test_data['Fare'] = titanic_test_data['Fare'].fillna(titanic_test_data.Fare.median())\n",
    "fare_survived = titanic_train_data['Fare'][titanic_train_data['Survived']==1].mean()\n",
    "fare_not_survived = titanic_train_data['Fare'][titanic_train_data['Survived']==0].mean()\n",
    "print fare_survived, fare_not_survived"
   ]
  },
  {
   "cell_type": "code",
   "execution_count": 132,
   "metadata": {},
   "outputs": [
    {
     "data": {
      "text/plain": [
       "<matplotlib.axes._subplots.AxesSubplot at 0x7f4b51ab2750>"
      ]
     },
     "execution_count": 132,
     "metadata": {},
     "output_type": "execute_result"
    },
    {
     "data": {
      "image/png": "[encoded data removed]",
      "text/plain": [
       "<matplotlib.figure.Figure at 0x7f4b53287990>"
      ]
     },
     "metadata": {},
     "output_type": "display_data"
    }
   ],
   "source": [
    "#Family\n",
    "#Family person will have average chance of survival\n",
    "titanic_train_data['Family'] = titanic_train_data['Parch'] + titanic_train_data['SibSp']\n",
    "titanic_train_data['Family'].loc[titanic_train_data['Family']>0] = 1\n",
    "titanic_train_data['Family'].loc[titanic_train_data['Family']==0] = 0\n",
    "titanic_train_data = titanic_train_data.drop(['Parch','SibSp'],axis=1)\n",
    "\n",
    "titanic_test_data['Family'] = titanic_test_data['Parch'] + titanic_test_data['SibSp']\n",
    "titanic_test_data['Family'].loc[titanic_test_data['Family']>0] = 1\n",
    "titanic_test_data['Family'].loc[titanic_test_data['Family']==0] = 0\n",
    "titanic_test_data = titanic_test_data.drop(['Parch','SibSp'],axis=1)\n",
    "\n",
    "family_survived = titanic_train_data[['Family','Survived']].groupby(['Family'],as_index=False).mean()\n",
    "figure,(axis1,axis2) = plt.subplots(1,2,figsize=(10,5))\n",
    "sns.countplot(x='Family',data=titanic_train_data,ax=axis1)\n",
    "sns.barplot(x='Family', y='Survived', data=family_survived)\n",
    "#titanic_train_data.head(20)"
   ]
  },
  {
   "cell_type": "code",
   "execution_count": 133,
   "metadata": {},
   "outputs": [
    {
     "name": "stderr",
     "output_type": "stream",
     "text": [
      "/home/maulik/anaconda2/lib/python2.7/site-packages/ipykernel_launcher.py:4: FutureWarning: convert_objects is deprecated.  Use the data-type specific converters pd.to_datetime, pd.to_timedelta and pd.to_numeric.\n",
      "  after removing the cwd from sys.path.\n",
      "/home/maulik/anaconda2/lib/python2.7/site-packages/ipykernel_launcher.py:5: FutureWarning: convert_objects is deprecated.  Use the data-type specific converters pd.to_datetime, pd.to_timedelta and pd.to_numeric.\n",
      "  \"\"\"\n",
      "/home/maulik/anaconda2/lib/python2.7/site-packages/ipykernel_launcher.py:7: FutureWarning: convert_objects is deprecated.  Use the data-type specific converters pd.to_datetime, pd.to_timedelta and pd.to_numeric.\n",
      "  import sys\n",
      "/home/maulik/anaconda2/lib/python2.7/site-packages/ipykernel_launcher.py:8: FutureWarning: convert_objects is deprecated.  Use the data-type specific converters pd.to_datetime, pd.to_timedelta and pd.to_numeric.\n",
      "  \n"
     ]
    }
   ],
   "source": [
    "map_person = {'male':0,'female':1,'Child':2}\n",
    "map_embarked = {'S':0,'C':1,'Q':2}\n",
    "\n",
    "titanic_train_data['Person'] = titanic_train_data['Person'].replace(map_person).convert_objects(convert_numeric=True)\n",
    "titanic_train_data['Embarked'] = titanic_train_data['Embarked'].replace(map_embarked).convert_objects(convert_numeric=True)\n",
    "\n",
    "titanic_test_data['Person'] = titanic_test_data['Person'].replace(map_person).convert_objects(convert_numeric=True)\n",
    "titanic_test_data['Embarked'] = titanic_test_data['Embarked'].replace(map_embarked).convert_objects(convert_numeric=True)"
   ]
  },
  {
   "cell_type": "code",
   "execution_count": 134,
   "metadata": {},
   "outputs": [],
   "source": [
    "x_train = titanic_train_data.drop('Survived',1)\n",
    "y_train = titanic_train_data['Survived']\n",
    "x_test = titanic_test_data.drop(['PassengerId'],1)"
   ]
  },
  {
   "cell_type": "code",
   "execution_count": 136,
   "metadata": {},
   "outputs": [
    {
     "data": {
      "text/plain": [
       "0.79349046015712688"
      ]
     },
     "execution_count": 136,
     "metadata": {},
     "output_type": "execute_result"
    }
   ],
   "source": [
    "#Logistic Regression CV\n",
    "#logreg = LogisticRegressionCV(Cs = [0.001,0.01,0.1,1,10,100])\n",
    "#logreg.fit(x_train,y_train)\n",
    "#y_test = logreg.predict(x_test)\n",
    "#logreg.score(x_train,y_train)"
   ]
  },
  {
   "cell_type": "code",
   "execution_count": 137,
   "metadata": {},
   "outputs": [
    {
     "data": {
      "text/plain": [
       "0.89337822671156009"
      ]
     },
     "execution_count": 137,
     "metadata": {},
     "output_type": "execute_result"
    }
   ],
   "source": [
    "#SVM\n",
    "#svc = SVC()\n",
    "#svc.fit(x_train,y_train)\n",
    "#y_test = svc.predict(x_test)\n",
    "#svc.score(x_train,y_train)"
   ]
  },
  {
   "cell_type": "code",
   "execution_count": 140,
   "metadata": {},
   "outputs": [
    {
     "data": {
      "text/plain": [
       "0.97643097643097643"
      ]
     },
     "execution_count": 140,
     "metadata": {},
     "output_type": "execute_result"
    }
   ],
   "source": [
    "#RandomForest\n",
    "random_forest = RandomForestClassifier(n_estimators=100)\n",
    "random_forest.fit(x_train, y_train)\n",
    "y_test = random_forest.predict(x_test)\n",
    "accuracy_score(y_)"
   ]
  },
  {
   "cell_type": "code",
   "execution_count": 148,
   "metadata": {},
   "outputs": [
    {
     "data": {
      "text/plain": [
       "0.96857463524130194"
      ]
     },
     "execution_count": 148,
     "metadata": {},
     "output_type": "execute_result"
    }
   ],
   "source": [
    "#knn = KNeighborsClassifier(n_neighbors = 1)\n",
    "#knn.fit(x_train, y_train)\n",
    "#y_test = knn.predict(x_test)\n",
    "#knn.score(x_train, y_train)"
   ]
  },
  {
   "cell_type": "code",
   "execution_count": 149,
   "metadata": {},
   "outputs": [
    {
     "data": {
      "text/plain": [
       "0.72727272727272729"
      ]
     },
     "execution_count": 149,
     "metadata": {},
     "output_type": "execute_result"
    }
   ],
   "source": [
    "# Gaussian Naive Bayes\n",
    "#gaussian = GaussianNB()\n",
    "#gaussian.fit(x_train, y_train)\n",
    "#y_pred = gaussian.predict(x_test)\n",
    "#gaussian.score(x_train, y_train)"
   ]
  },
  {
   "cell_type": "code",
   "execution_count": 150,
   "metadata": {
    "collapsed": true
   },
   "outputs": [],
   "source": [
    "submission = pd.DataFrame({\n",
    "        \"PassengerId\": titanic_test_data[\"PassengerId\"],\n",
    "        \"Survived\": y_test\n",
    "    })\n",
    "submission.to_csv('titanic.csv', index=False)"
   ]
  },
  {
   "cell_type": "code",
   "execution_count": null,
   "metadata": {
    "collapsed": true
   },
   "outputs": [],
   "source": []
  }
 ],
 "metadata": {
  "kernelspec": {
   "display_name": "Python 2",
   "language": "python",
   "name": "python2"
  },
  "language_info": {
   "codemirror_mode": {
    "name": "ipython",
    "version": 2
   },
   "file_extension": ".py",
   "mimetype": "text/x-python",
   "name": "python",
   "nbconvert_exporter": "python",
   "pygments_lexer": "ipython2",
   "version": "2.7.13"
  }
 },
 "nbformat": 4,
 "nbformat_minor": 2
}
